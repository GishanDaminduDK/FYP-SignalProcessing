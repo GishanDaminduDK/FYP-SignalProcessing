{
 "cells": [
  {
   "cell_type": "code",
   "execution_count": 15,
   "metadata": {},
   "outputs": [
    {
     "name": "stdout",
     "output_type": "stream",
     "text": [
      "(-242+126j)\n",
      "Size of chirp_ADC_matrix: (256, 64, 12)\n",
      "Size of the all chirps matrix (256, 64, 12)\n",
      "Size of first_chirp_first_loop: 256\n",
      "[ -41.+339.j -242.+126.j -402.+127.j -136.-249.j -242. -55.j   23.-129.j\n",
      "  -75.-109.j  105.-111.j  150.+232.j -287.+200.j -310.+330.j -629.-296.j\n",
      " -163.-228.j  160.-579.j  176.+122.j   81.+134.j -273.+288.j -465. -54.j\n",
      " -271.-250.j -279.-441.j  149.-268.j  -88.-305.j  285.+183.j   55. +13.j\n",
      " -279.+282.j -303.-129.j -422.-328.j -146.-330.j   24.-475.j   44.-142.j\n",
      "  223.-202.j -141. -56.j  101. +55.j -103.-143.j -172.-121.j -118.-247.j\n",
      " -158.-366.j  211.-206.j   21.-339.j   57.+227.j  -84.-110.j -375.-217.j\n",
      "   -1.-494.j  230.-433.j  297. -90.j  173.  +4.j -361. -45.j   62.-196.j\n",
      "  -96.-471.j  200.-104.j   88.-215.j   81.-147.j  211.-256.j  181.-100.j\n",
      "   65.+256.j -127.-242.j -365.-264.j  211.-579.j  298.-359.j  501.  -3.j\n",
      "   88.+103.j  -82. +13.j   60.-218.j   12.-323.j  189.+102.j   23.-358.j\n",
      "  -85.-288.j  450.-592.j  578. -25.j  498.+350.j -208.+401.j -506. -91.j\n",
      "   26.-667.j  319.-625.j  692. +60.j  240. +38.j  -10.+142.j  129.-324.j\n",
      "  252.  +1.j  319.+105.j  -88.  -5.j -142.-208.j  442.-538.j  595.-103.j\n",
      "  507.+411.j -121.+341.j -237. -80.j  150.-530.j  459.-167.j  538.+285.j\n",
      "  -29.+172.j  -90. +38.j  323.-371.j  474. +72.j  324.+357.j -207.+228.j\n",
      " -112.-152.j  356.-517.j  632.+113.j  560.+634.j -336.+505.j -422.  +0.j\n",
      "   37.-567.j  597.-143.j  645.+351.j  -57.+543.j -210.+240.j   86.-314.j\n",
      "  242.+195.j  232.+400.j -375.+238.j -143.-224.j  269.-374.j  627.+206.j\n",
      "  378.+714.j -520.+522.j -493. +79.j    1.-600.j  374. +73.j  287.+299.j\n",
      " -308.+410.j -131. -83.j   63.-235.j  289.+284.j   25.+534.j -665.+142.j\n",
      " -314.-347.j  207.-644.j  672. +92.j  308.+517.j -411.+613.j -457. +44.j\n",
      " -262.-455.j   93. -77.j  217.  +5.j -244. +99.j  -21.-163.j   26.-258.j\n",
      "  351.+117.j   10.+174.j -467.+141.j -220.-303.j  202.-605.j  585. +26.j\n",
      "  324.+286.j -341.+545.j -328.-211.j -267.-387.j  336.-246.j  316. -73.j\n",
      "  -76. +71.j   -8.-170.j  187.-322.j  532. +70.j  158.+307.j -214.+361.j\n",
      " -219.-287.j   26.-542.j  660. -96.j  579.+299.j -112.+682.j -360. +14.j\n",
      " -285.-265.j  383.-370.j  315. -28.j  194.+281.j   89. +21.j  111.-152.j\n",
      "  513.+209.j  308.+382.j -196.+606.j -396.-183.j  -84.-274.j  633.-224.j\n",
      "  463.+459.j   -1.+762.j -496.+310.j -363.-322.j  287.-230.j  329.+100.j\n",
      "  129.+467.j -206. -46.j   22. +12.j  432. +53.j  167.+504.j -323.+614.j\n",
      " -479. -52.j -153.-359.j  546.-226.j  299.+442.j    0.+659.j -538.+122.j\n",
      " -305.-170.j  185.-211.j  267.+132.j  -91.+360.j -234. -13.j   40.-117.j\n",
      "  470. -67.j  107.+566.j -196.+578.j -659. -18.j -194.-445.j  389.-301.j\n",
      "  457.+246.j  -46.+582.j -398.+135.j -211. -88.j  229.-235.j  122.+205.j\n",
      "   46.+226.j -201.  -4.j   84.-152.j  336.  +8.j  227.+445.j -151.+446.j\n",
      " -417.+113.j -100.-114.j  234.-130.j  174.+235.j   -3.+338.j -255.+116.j\n",
      "  -73. -18.j  113. -52.j  107.+303.j  -58.+227.j -233. +71.j   38. -88.j\n",
      "  267. +26.j  216.+344.j  -40.+513.j -370.+307.j -272. +49.j  -66.-156.j\n",
      "  128.+170.j   93.+219.j -202.+277.j -175.+113.j  -82. +37.j   42.+126.j\n",
      "  -14.+202.j -162.+207.j  -60.+145.j  -60. +83.j   28.+316.j -100.+384.j\n",
      " -370.+310.j -397. +54.j -250.-103.j   -6. +39.j   46.+113.j -202.+279.j\n",
      " -187.+153.j -228. +29.j  -62.+125.j -137.+272.j]\n"
     ]
    }
   ],
   "source": [
    "import numpy as np\n",
    "import matplotlib.pyplot as plt\n",
    "\n",
    "# Define file path and parameters\n",
    "fileFullPath = r'D:\\Drone-Swarm-Detection-with-AWR2243\\Our data\\Radar_Data\\metal_plate_distance_3m\\master_0000_data.bin'\n",
    "frameIdx = 50  # Index of the frame to read\n",
    "numSamplePerChirp = 256  # Number of samples per chirp\n",
    "numChirpPerLoop = 12  # Number of chirps per loop\n",
    "numLoops = 64  # Number of loops per frame\n",
    "numRXPerDevice = 4  # Number of receiving channels per device\n",
    "numDevices = 4  # Number of devices in the cascade (if needed)\n",
    "\n",
    "# Function to read binary radar data\n",
    "def readBinFile(fileFullPath, frameIdx, numSamplePerChirp, numChirpPerLoop, numLoops, numRXPerDevice):\n",
    "    Expected_Num_SamplesPerFrame = numSamplePerChirp * numChirpPerLoop * numLoops * numRXPerDevice * 2\n",
    "    with open(fileFullPath, 'rb') as fp:\n",
    "        # Move to the desired frame in the file\n",
    "        fp.seek((frameIdx - 1) * Expected_Num_SamplesPerFrame * 2)\n",
    "        adcData1 = np.fromfile(fp, dtype=np.uint16, count=Expected_Num_SamplesPerFrame)\n",
    "\n",
    "    # Convert the 16-bit data to signed integers\n",
    "    neg = (adcData1 >> 15) == 1  # Check the sign bit\n",
    "    adcData1 = adcData1.astype(np.int32)\n",
    "    adcData1[neg] -= 2**16\n",
    "\n",
    "    # Combine the I and Q channels into complex values\n",
    "    adcData1 = adcData1[0::2] + 1j * adcData1[1::2]\n",
    "\n",
    "    # Reshape and permute the data\n",
    "    adcData1Complex = np.reshape(adcData1, (numRXPerDevice, numSamplePerChirp, numChirpPerLoop, numLoops), order='F')\n",
    "    adcData1Complex = np.transpose(adcData1Complex, (1, 3, 0, 2))  # Permute dimensions\n",
    "    return adcData1Complex\n",
    "\n",
    "# Read radar data\n",
    "adcDataComplex = readBinFile(fileFullPath, frameIdx, numSamplePerChirp, numChirpPerLoop, numLoops, numRXPerDevice)\n",
    "\n",
    "# Select antenna index and extract chirp ADC matrix\n",
    "antennaIdx = 0  # Indexing starts from 0 in Python\n",
    "chirp_ADC_matrix = adcDataComplex[:, :, antennaIdx, :]\n",
    "\n",
    "# Display some results\n",
    "print(adcDataComplex[1, 0, 0, 0])  # Display sample value\n",
    "print(\"Size of chirp_ADC_matrix:\", chirp_ADC_matrix.shape)\n",
    "\n",
    "# Extract first chirp of the first loop\n",
    "first_chirp_first_loop = chirp_ADC_matrix[:, 0, 0]\n",
    "all_chirps=chirp_ADC_matrix[:,:,:]\n",
    "print(\"Size of the all chirps matrix\",all_chirps.shape)\n",
    "print(\"Size of first_chirp_first_loop:\", first_chirp_first_loop.shape[0])\n",
    "print(first_chirp_first_loop)"
   ]
  },
  {
   "cell_type": "code",
   "execution_count": 17,
   "metadata": {},
   "outputs": [
    {
     "name": "stdout",
     "output_type": "stream",
     "text": [
      "[[ -41.+339.j  -57.+347.j  -41.+329.j ... -108.+455.j -106.+443.j\n",
      "   -88.+443.j]\n",
      " [-242.+126.j -240.+113.j -244.+129.j ... -305.+183.j -306.+195.j\n",
      "  -287.+195.j]\n",
      " [-402.+127.j -386.+109.j -368.+105.j ... -504.+132.j -513.+131.j\n",
      "  -515.+120.j]\n",
      " ...\n",
      " [-228. +29.j -222. +34.j -218. +40.j ... -240. +35.j -239. +35.j\n",
      "  -213. +20.j]\n",
      " [ -62.+125.j  -59.+117.j  -69.+126.j ...  -96.+112.j  -79.+111.j\n",
      "   -89.+100.j]\n",
      " [-137.+272.j -146.+293.j -144.+261.j ... -166.+242.j -167.+247.j\n",
      "  -176.+256.j]]\n"
     ]
    },
    {
     "data": {
      "text/plain": [
       "<matplotlib.colorbar.Colorbar at 0x1f9bc0af9b0>"
      ]
     },
     "execution_count": 17,
     "metadata": {},
     "output_type": "execute_result"
    },
    {
     "data": {
      "image/png": "[encoded data removed]",
      "text/plain": [
       "<Figure size 640x480 with 2 Axes>"
      ]
     },
     "metadata": {},
     "output_type": "display_data"
    }
   ],
   "source": [
    "# Reshape the complex array into a matrix of shape (256, 768)\n",
    "chirps_matrix = np.reshape(all_chirps, (256, 768))\n",
    "\n",
    "# Output the reshaped matrix\n",
    "print(chirps_matrix)\n",
    "# Constants (adjust based on your radar parameters)\n",
    "fc = 77e9  # Radar operating frequency (77 GHz for mmWave radar)\n",
    "c = 3e8  # Speed of light (m/s)\n",
    "sweepBandwidth = 3.16e9  # Bandwidth of the FMCW radar sweep (3.16 GHz)\n",
    "chirpDuration = 40e-6  # Chirp duration (40 microseconds)\n",
    "\n",
    "Nfft_range = 320  # Number of FFT points for range dimension\n",
    "Nfft_doppler = 97# Number of FFT points for Doppler dimension\n",
    "\n",
    "# Perform 2D FFT along both the range (ADC samples) and Doppler (chirps) dimensions\n",
    "range_fft = np.fft.fft(chirps_matrix, Nfft_range, axis=0)  # FFT across range (ADC samples)\n",
    "doppler_fft = np.fft.fftshift(np.fft.fft(range_fft, Nfft_doppler, axis=1), axes=1)  # FFT across Doppler (chirps), with shift\n",
    "\n",
    "# Calculate the range and velocity axis values\n",
    "range_res = c / (2 * sweepBandwidth)  # Range resolution (meters)\n",
    "max_range = range_res * (Nfft_range - 1)  # Maximum measurable range\n",
    "range_axis = np.linspace(0, max_range, Nfft_range)  # Range axis for plotting\n",
    "\n",
    "doppler_res = 1 / (numChirpPerLoop * chirpDuration*35)  # Doppler resolution (Hz)\n",
    "max_doppler = doppler_res * (Nfft_doppler / 2)  # Maximum Doppler shift (Hz)\n",
    "\n",
    "# Doppler axis for plotting (ensure symmetry around 0)\n",
    "doppler_axis = np.linspace(-max_doppler, max_doppler, Nfft_doppler)\n",
    "\n",
    "# Convert Doppler frequency to velocity (m/s)\n",
    "velocity_axis = doppler_axis * (c / (2 * fc))  # Velocity axis using Doppler shift\n",
    "\n",
    "# Plot the Range-Velocity map (absolute value of FFT)\n",
    "plt.figure()\n",
    "plt.imshow((np.abs(doppler_fft)), aspect='auto', extent=[velocity_axis[0], velocity_axis[-1], range_axis[0], range_axis[-1]], origin='lower')\n",
    "plt.xlabel('Velocity (m/s)')\n",
    "plt.ylabel('Range (m)')\n",
    "plt.title('Range-Velocity Map')\n",
    "plt.colorbar()"
   ]
  }
 ],
 "metadata": {
  "kernelspec": {
   "display_name": "base",
   "language": "python",
   "name": "python3"
  },
  "language_info": {
   "codemirror_mode": {
    "name": "ipython",
    "version": 3
   },
   "file_extension": ".py",
   "mimetype": "text/x-python",
   "name": "python",
   "nbconvert_exporter": "python",
   "pygments_lexer": "ipython3",
   "version": "3.12.3"
  }
 },
 "nbformat": 4,
 "nbformat_minor": 2
}
