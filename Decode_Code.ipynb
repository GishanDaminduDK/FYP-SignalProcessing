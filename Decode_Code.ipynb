{
 "cells": [
  {
   "cell_type": "code",
   "execution_count": 6,
   "metadata": {},
   "outputs": [
    {
     "name": "stdout",
     "output_type": "stream",
     "text": [
      "256\n",
      "(25-68j)\n"
     ]
    }
   ],
   "source": [
    "import numpy as np\n",
    "import matplotlib.pyplot as plt\n",
    "\n",
    "# Define file path and parameters\n",
    "fileFullPath = r'E:\\Data_Set\\Phanton_4_forward_02\\new_four\\master_0000_data.bin';\n",
    "frameIdx = 9# Index of the frame to read\n",
    "numSamplePerChirp = 256  # Number of samples per chirp\n",
    "numChirpPerLoop = 12  # Number of chirps per loop\n",
    "numLoops = 128 # Number of loops per frame\n",
    "numRXPerDevice = 4  # Number of receiving channels per device\n",
    "numDevices = 4  # Number of devices in the cascade (if needed)\n",
    "\n",
    "# Function to read binary radar data\n",
    "def readBinFile(fileFullPath, frameIdx, numSamplePerChirp, numChirpPerLoop, numLoops, numRXPerDevice):\n",
    "    Expected_Num_SamplesPerFrame = numSamplePerChirp * numChirpPerLoop * numLoops * numRXPerDevice * 2\n",
    "    with open(fileFullPath, 'rb') as fp:\n",
    "        # Move to the desired frame in the file\n",
    "        fp.seek((frameIdx - 1) * Expected_Num_SamplesPerFrame * 2)\n",
    "        adcData1 = np.fromfile(fp, dtype=np.uint16, count=Expected_Num_SamplesPerFrame)\n",
    "\n",
    "    # Convert the 16-bit data to signed integers\n",
    "    neg = (adcData1 >> 15) == 1  # Check the sign bit\n",
    "    adcData1 = adcData1.astype(np.int32)\n",
    "    adcData1[neg] -= 2**16\n",
    "\n",
    "    # Combine the I and Q channels into complex values\n",
    "    adcData1 = adcData1[0::2] + 1j * adcData1[1::2]\n",
    "\n",
    "    # Reshape and permute the data\n",
    "    adcData1Complex = np.reshape(adcData1, (numRXPerDevice, numSamplePerChirp, numChirpPerLoop, numLoops), order='F')\n",
    "    adcData1Complex = np.transpose(adcData1Complex, (1, 3, 0, 2))  # Permute dimensions\n",
    "    return adcData1Complex\n",
    "\n",
    "# Read radar data\n",
    "adcDataComplex = readBinFile(fileFullPath, frameIdx, numSamplePerChirp, numChirpPerLoop, numLoops, numRXPerDevice)\n",
    "\n",
    "# Select antenna index and extract chirp ADC matrix\n",
    "antennaIdx = 3 # Indexing starts from 0 in Python\n",
    "chirp_ADC_matrix = adcDataComplex[:, :, antennaIdx, :]\n",
    "\n",
    "\n",
    "\n",
    "# Extract first chirp of the first loop\n",
    "first_chirp_first_loop = chirp_ADC_matrix[:, 0, 0]\n",
    "\n",
    "# Initialize an empty list to store each chirp\n",
    "all_chirps = []\n",
    "# Loop over loops and chirps per loop\n",
    "for i in range(numLoops):\n",
    "    for j in range(numChirpPerLoop):\n",
    "        # Append each chirp to the list\n",
    "        all_chirps.append(chirp_ADC_matrix[:, i, j])\n",
    "\n",
    "# Convert the list to a numpy array and reshape it to (768, 256)\n",
    "all_chirps = np.array(all_chirps).reshape(256,1536)\n",
    "\n",
    "\n",
    "chirps_matrix =all_chirps \n",
    "print((chirps_matrix.shape[0]))\n",
    "chirps_matrix=np.transpose(chirps_matrix)\n",
    "# Output the reshaped matrix\n",
    "print(chirps_matrix[0][1])"
   ]
  }
 ],
 "metadata": {
  "kernelspec": {
   "display_name": "base",
   "language": "python",
   "name": "python3"
  },
  "language_info": {
   "codemirror_mode": {
    "name": "ipython",
    "version": 3
   },
   "file_extension": ".py",
   "mimetype": "text/x-python",
   "name": "python",
   "nbconvert_exporter": "python",
   "pygments_lexer": "ipython3",
   "version": "3.12.3"
  }
 },
 "nbformat": 4,
 "nbformat_minor": 2
}
